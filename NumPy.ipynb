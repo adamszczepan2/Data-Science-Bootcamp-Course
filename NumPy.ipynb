{
  "nbformat": 4,
  "nbformat_minor": 0,
  "metadata": {
    "colab": {
      "provenance": [],
      "authorship_tag": "ABX9TyOm8V8d6krnCriRianHNHOv",
      "include_colab_link": true
    },
    "kernelspec": {
      "name": "python3",
      "display_name": "Python 3"
    },
    "language_info": {
      "name": "python"
    }
  },
  "cells": [
    {
      "cell_type": "markdown",
      "metadata": {
        "id": "view-in-github",
        "colab_type": "text"
      },
      "source": [
        "<a href=\"https://colab.research.google.com/github/adamszczepan2/Data-Science-Bootcamp-Course/blob/main/NumPy.ipynb\" target=\"_parent\"><img src=\"https://colab.research.google.com/assets/colab-badge.svg\" alt=\"Open In Colab\"/></a>"
      ]
    },
    {
      "cell_type": "code",
      "execution_count": 1,
      "metadata": {
        "colab": {
          "base_uri": "https://localhost:8080/"
        },
        "id": "eWiWQC0397v0",
        "outputId": "7a0bc5de-52e7-4e00-c555-04d6034f13fd"
      },
      "outputs": [
        {
          "output_type": "stream",
          "name": "stdout",
          "text": [
            "joł\n"
          ]
        }
      ],
      "source": [
        "print ('joł')"
      ]
    },
    {
      "cell_type": "markdown",
      "source": [
        "tak"
      ],
      "metadata": {
        "id": "VeZFI6F-_PTB"
      }
    }
  ]
}